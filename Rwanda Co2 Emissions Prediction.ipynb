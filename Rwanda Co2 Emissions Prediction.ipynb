{
 "cells": [
  {
   "cell_type": "code",
   "execution_count": 5,
   "id": "initial_id",
   "metadata": {
    "collapsed": true,
    "ExecuteTime": {
     "end_time": "2023-08-14T02:07:17.364115200Z",
     "start_time": "2023-08-14T02:07:13.468462600Z"
    }
   },
   "outputs": [],
   "source": [
    "# Importing libraries\n",
    "import pandas as pd\n",
    "from sklearn.ensemble import RandomForestRegressor\n",
    "from sklearn.model_selection import train_test_split\n",
    "from sklearn.metrics import mean_squared_error\n",
    "from sklearn.impute import SimpleImputer"
   ]
  },
  {
   "cell_type": "code",
   "execution_count": 6,
   "outputs": [
    {
     "data": {
      "text/plain": "       ID_LAT_LON_YEAR_WEEK  latitude  longitude  year  week_no  \\\n0  ID_-0.510_29.290_2019_00     -0.51      29.29  2019        0   \n1  ID_-0.510_29.290_2019_01     -0.51      29.29  2019        1   \n2  ID_-0.510_29.290_2019_02     -0.51      29.29  2019        2   \n3  ID_-0.510_29.290_2019_03     -0.51      29.29  2019        3   \n4  ID_-0.510_29.290_2019_04     -0.51      29.29  2019        4   \n\n   SulphurDioxide_SO2_column_number_density  \\\n0                                 -0.000108   \n1                                  0.000021   \n2                                  0.000514   \n3                                       NaN   \n4                                 -0.000079   \n\n   SulphurDioxide_SO2_column_number_density_amf  \\\n0                                      0.603019   \n1                                      0.728214   \n2                                      0.748199   \n3                                           NaN   \n4                                      0.676296   \n\n   SulphurDioxide_SO2_slant_column_number_density  \\\n0                                       -0.000065   \n1                                        0.000014   \n2                                        0.000385   \n3                                             NaN   \n4                                       -0.000048   \n\n   SulphurDioxide_cloud_fraction  SulphurDioxide_sensor_azimuth_angle  ...  \\\n0                       0.255668                           -98.593887  ...   \n1                       0.130988                            16.592861  ...   \n2                       0.110018                            72.795837  ...   \n3                            NaN                                  NaN  ...   \n4                       0.121164                             4.121269  ...   \n\n   Cloud_cloud_top_height  Cloud_cloud_base_pressure  Cloud_cloud_base_height  \\\n0             3664.436218               61085.809570              2615.120483   \n1             3651.190311               66969.478735              3174.572424   \n2             4216.986492               60068.894448              3516.282669   \n3             5228.507736               51064.547339              4180.973322   \n4             3980.598120               63751.125781              3355.710107   \n\n   Cloud_cloud_optical_depth  Cloud_surface_albedo  \\\n0                  15.568533              0.272292   \n1                   8.690601              0.256830   \n2                  21.103410              0.251101   \n3                  15.386899              0.262043   \n4                   8.114694              0.235847   \n\n   Cloud_sensor_azimuth_angle  Cloud_sensor_zenith_angle  \\\n0                  -12.628986                  35.632416   \n1                   30.359375                  39.557633   \n2                   15.377883                  30.401823   \n3                  -11.293399                  24.380357   \n4                   38.532263                  37.392979   \n\n   Cloud_solar_azimuth_angle  Cloud_solar_zenith_angle  emission  \n0                -138.786423                 30.752140  3.750994  \n1                -145.183930                 27.251779  4.025176  \n2                -142.519545                 26.193296  4.231381  \n3                -132.665828                 28.829155  4.305286  \n4                -141.509805                 22.204612  4.347317  \n\n[5 rows x 76 columns]",
      "text/html": "<div>\n<style scoped>\n    .dataframe tbody tr th:only-of-type {\n        vertical-align: middle;\n    }\n\n    .dataframe tbody tr th {\n        vertical-align: top;\n    }\n\n    .dataframe thead th {\n        text-align: right;\n    }\n</style>\n<table border=\"1\" class=\"dataframe\">\n  <thead>\n    <tr style=\"text-align: right;\">\n      <th></th>\n      <th>ID_LAT_LON_YEAR_WEEK</th>\n      <th>latitude</th>\n      <th>longitude</th>\n      <th>year</th>\n      <th>week_no</th>\n      <th>SulphurDioxide_SO2_column_number_density</th>\n      <th>SulphurDioxide_SO2_column_number_density_amf</th>\n      <th>SulphurDioxide_SO2_slant_column_number_density</th>\n      <th>SulphurDioxide_cloud_fraction</th>\n      <th>SulphurDioxide_sensor_azimuth_angle</th>\n      <th>...</th>\n      <th>Cloud_cloud_top_height</th>\n      <th>Cloud_cloud_base_pressure</th>\n      <th>Cloud_cloud_base_height</th>\n      <th>Cloud_cloud_optical_depth</th>\n      <th>Cloud_surface_albedo</th>\n      <th>Cloud_sensor_azimuth_angle</th>\n      <th>Cloud_sensor_zenith_angle</th>\n      <th>Cloud_solar_azimuth_angle</th>\n      <th>Cloud_solar_zenith_angle</th>\n      <th>emission</th>\n    </tr>\n  </thead>\n  <tbody>\n    <tr>\n      <th>0</th>\n      <td>ID_-0.510_29.290_2019_00</td>\n      <td>-0.51</td>\n      <td>29.29</td>\n      <td>2019</td>\n      <td>0</td>\n      <td>-0.000108</td>\n      <td>0.603019</td>\n      <td>-0.000065</td>\n      <td>0.255668</td>\n      <td>-98.593887</td>\n      <td>...</td>\n      <td>3664.436218</td>\n      <td>61085.809570</td>\n      <td>2615.120483</td>\n      <td>15.568533</td>\n      <td>0.272292</td>\n      <td>-12.628986</td>\n      <td>35.632416</td>\n      <td>-138.786423</td>\n      <td>30.752140</td>\n      <td>3.750994</td>\n    </tr>\n    <tr>\n      <th>1</th>\n      <td>ID_-0.510_29.290_2019_01</td>\n      <td>-0.51</td>\n      <td>29.29</td>\n      <td>2019</td>\n      <td>1</td>\n      <td>0.000021</td>\n      <td>0.728214</td>\n      <td>0.000014</td>\n      <td>0.130988</td>\n      <td>16.592861</td>\n      <td>...</td>\n      <td>3651.190311</td>\n      <td>66969.478735</td>\n      <td>3174.572424</td>\n      <td>8.690601</td>\n      <td>0.256830</td>\n      <td>30.359375</td>\n      <td>39.557633</td>\n      <td>-145.183930</td>\n      <td>27.251779</td>\n      <td>4.025176</td>\n    </tr>\n    <tr>\n      <th>2</th>\n      <td>ID_-0.510_29.290_2019_02</td>\n      <td>-0.51</td>\n      <td>29.29</td>\n      <td>2019</td>\n      <td>2</td>\n      <td>0.000514</td>\n      <td>0.748199</td>\n      <td>0.000385</td>\n      <td>0.110018</td>\n      <td>72.795837</td>\n      <td>...</td>\n      <td>4216.986492</td>\n      <td>60068.894448</td>\n      <td>3516.282669</td>\n      <td>21.103410</td>\n      <td>0.251101</td>\n      <td>15.377883</td>\n      <td>30.401823</td>\n      <td>-142.519545</td>\n      <td>26.193296</td>\n      <td>4.231381</td>\n    </tr>\n    <tr>\n      <th>3</th>\n      <td>ID_-0.510_29.290_2019_03</td>\n      <td>-0.51</td>\n      <td>29.29</td>\n      <td>2019</td>\n      <td>3</td>\n      <td>NaN</td>\n      <td>NaN</td>\n      <td>NaN</td>\n      <td>NaN</td>\n      <td>NaN</td>\n      <td>...</td>\n      <td>5228.507736</td>\n      <td>51064.547339</td>\n      <td>4180.973322</td>\n      <td>15.386899</td>\n      <td>0.262043</td>\n      <td>-11.293399</td>\n      <td>24.380357</td>\n      <td>-132.665828</td>\n      <td>28.829155</td>\n      <td>4.305286</td>\n    </tr>\n    <tr>\n      <th>4</th>\n      <td>ID_-0.510_29.290_2019_04</td>\n      <td>-0.51</td>\n      <td>29.29</td>\n      <td>2019</td>\n      <td>4</td>\n      <td>-0.000079</td>\n      <td>0.676296</td>\n      <td>-0.000048</td>\n      <td>0.121164</td>\n      <td>4.121269</td>\n      <td>...</td>\n      <td>3980.598120</td>\n      <td>63751.125781</td>\n      <td>3355.710107</td>\n      <td>8.114694</td>\n      <td>0.235847</td>\n      <td>38.532263</td>\n      <td>37.392979</td>\n      <td>-141.509805</td>\n      <td>22.204612</td>\n      <td>4.347317</td>\n    </tr>\n  </tbody>\n</table>\n<p>5 rows × 76 columns</p>\n</div>"
     },
     "execution_count": 6,
     "metadata": {},
     "output_type": "execute_result"
    }
   ],
   "source": [
    "# Load the dataset\n",
    "train_data = pd.read_csv(r'C:\\Users\\Syed Asad\\OneDrive\\Desktop\\Python Files\\Data Analysis\\Kaggle Competitions\\Predicting CO2 Emissions for Rwanda\\train.csv')\n",
    "train_data.head()"
   ],
   "metadata": {
    "collapsed": false,
    "ExecuteTime": {
     "end_time": "2023-08-14T02:07:18.256975800Z",
     "start_time": "2023-08-14T02:07:17.370313600Z"
    }
   },
   "id": "9e7b603e939c8422"
  },
  {
   "cell_type": "markdown",
   "source": [
    "The dataset contains 76 columns, including the target variable emission. Let's start by handling missing values and then training an initial Random Forest model to determine feature importance."
   ],
   "metadata": {
    "collapsed": false
   },
   "id": "3242c127787f62fe"
  },
  {
   "cell_type": "code",
   "execution_count": 7,
   "outputs": [],
   "source": [
    "# Drop the ID column as it's likely not relevant for predictions\n",
    "train_data = train_data.drop(columns=['ID_LAT_LON_YEAR_WEEK'])"
   ],
   "metadata": {
    "collapsed": false,
    "ExecuteTime": {
     "end_time": "2023-08-14T02:07:18.277126300Z",
     "start_time": "2023-08-14T02:07:18.276090300Z"
    }
   },
   "id": "5fe95a9854fb9798"
  },
  {
   "cell_type": "code",
   "execution_count": 8,
   "outputs": [
    {
     "data": {
      "text/plain": "   latitude  longitude  year  week_no  \\\n0     -0.51      29.29  2019        0   \n1     -0.51      29.29  2019        1   \n2     -0.51      29.29  2019        2   \n3     -0.51      29.29  2019        3   \n4     -0.51      29.29  2019        4   \n\n   SulphurDioxide_SO2_column_number_density  \\\n0                                 -0.000108   \n1                                  0.000021   \n2                                  0.000514   \n3                                       NaN   \n4                                 -0.000079   \n\n   SulphurDioxide_SO2_column_number_density_amf  \\\n0                                      0.603019   \n1                                      0.728214   \n2                                      0.748199   \n3                                           NaN   \n4                                      0.676296   \n\n   SulphurDioxide_SO2_slant_column_number_density  \\\n0                                       -0.000065   \n1                                        0.000014   \n2                                        0.000385   \n3                                             NaN   \n4                                       -0.000048   \n\n   SulphurDioxide_cloud_fraction  SulphurDioxide_sensor_azimuth_angle  \\\n0                       0.255668                           -98.593887   \n1                       0.130988                            16.592861   \n2                       0.110018                            72.795837   \n3                            NaN                                  NaN   \n4                       0.121164                             4.121269   \n\n   SulphurDioxide_sensor_zenith_angle  ...  Cloud_cloud_top_height  \\\n0                           50.843559  ...             3664.436218   \n1                           39.137194  ...             3651.190311   \n2                           52.868816  ...             4216.986492   \n3                                 NaN  ...             5228.507736   \n4                           35.515587  ...             3980.598120   \n\n   Cloud_cloud_base_pressure  Cloud_cloud_base_height  \\\n0               61085.809570              2615.120483   \n1               66969.478735              3174.572424   \n2               60068.894448              3516.282669   \n3               51064.547339              4180.973322   \n4               63751.125781              3355.710107   \n\n   Cloud_cloud_optical_depth  Cloud_surface_albedo  \\\n0                  15.568533              0.272292   \n1                   8.690601              0.256830   \n2                  21.103410              0.251101   \n3                  15.386899              0.262043   \n4                   8.114694              0.235847   \n\n   Cloud_sensor_azimuth_angle  Cloud_sensor_zenith_angle  \\\n0                  -12.628986                  35.632416   \n1                   30.359375                  39.557633   \n2                   15.377883                  30.401823   \n3                  -11.293399                  24.380357   \n4                   38.532263                  37.392979   \n\n   Cloud_solar_azimuth_angle  Cloud_solar_zenith_angle  emission  \n0                -138.786423                 30.752140  3.750994  \n1                -145.183930                 27.251779  4.025176  \n2                -142.519545                 26.193296  4.231381  \n3                -132.665828                 28.829155  4.305286  \n4                -141.509805                 22.204612  4.347317  \n\n[5 rows x 68 columns]",
      "text/html": "<div>\n<style scoped>\n    .dataframe tbody tr th:only-of-type {\n        vertical-align: middle;\n    }\n\n    .dataframe tbody tr th {\n        vertical-align: top;\n    }\n\n    .dataframe thead th {\n        text-align: right;\n    }\n</style>\n<table border=\"1\" class=\"dataframe\">\n  <thead>\n    <tr style=\"text-align: right;\">\n      <th></th>\n      <th>latitude</th>\n      <th>longitude</th>\n      <th>year</th>\n      <th>week_no</th>\n      <th>SulphurDioxide_SO2_column_number_density</th>\n      <th>SulphurDioxide_SO2_column_number_density_amf</th>\n      <th>SulphurDioxide_SO2_slant_column_number_density</th>\n      <th>SulphurDioxide_cloud_fraction</th>\n      <th>SulphurDioxide_sensor_azimuth_angle</th>\n      <th>SulphurDioxide_sensor_zenith_angle</th>\n      <th>...</th>\n      <th>Cloud_cloud_top_height</th>\n      <th>Cloud_cloud_base_pressure</th>\n      <th>Cloud_cloud_base_height</th>\n      <th>Cloud_cloud_optical_depth</th>\n      <th>Cloud_surface_albedo</th>\n      <th>Cloud_sensor_azimuth_angle</th>\n      <th>Cloud_sensor_zenith_angle</th>\n      <th>Cloud_solar_azimuth_angle</th>\n      <th>Cloud_solar_zenith_angle</th>\n      <th>emission</th>\n    </tr>\n  </thead>\n  <tbody>\n    <tr>\n      <th>0</th>\n      <td>-0.51</td>\n      <td>29.29</td>\n      <td>2019</td>\n      <td>0</td>\n      <td>-0.000108</td>\n      <td>0.603019</td>\n      <td>-0.000065</td>\n      <td>0.255668</td>\n      <td>-98.593887</td>\n      <td>50.843559</td>\n      <td>...</td>\n      <td>3664.436218</td>\n      <td>61085.809570</td>\n      <td>2615.120483</td>\n      <td>15.568533</td>\n      <td>0.272292</td>\n      <td>-12.628986</td>\n      <td>35.632416</td>\n      <td>-138.786423</td>\n      <td>30.752140</td>\n      <td>3.750994</td>\n    </tr>\n    <tr>\n      <th>1</th>\n      <td>-0.51</td>\n      <td>29.29</td>\n      <td>2019</td>\n      <td>1</td>\n      <td>0.000021</td>\n      <td>0.728214</td>\n      <td>0.000014</td>\n      <td>0.130988</td>\n      <td>16.592861</td>\n      <td>39.137194</td>\n      <td>...</td>\n      <td>3651.190311</td>\n      <td>66969.478735</td>\n      <td>3174.572424</td>\n      <td>8.690601</td>\n      <td>0.256830</td>\n      <td>30.359375</td>\n      <td>39.557633</td>\n      <td>-145.183930</td>\n      <td>27.251779</td>\n      <td>4.025176</td>\n    </tr>\n    <tr>\n      <th>2</th>\n      <td>-0.51</td>\n      <td>29.29</td>\n      <td>2019</td>\n      <td>2</td>\n      <td>0.000514</td>\n      <td>0.748199</td>\n      <td>0.000385</td>\n      <td>0.110018</td>\n      <td>72.795837</td>\n      <td>52.868816</td>\n      <td>...</td>\n      <td>4216.986492</td>\n      <td>60068.894448</td>\n      <td>3516.282669</td>\n      <td>21.103410</td>\n      <td>0.251101</td>\n      <td>15.377883</td>\n      <td>30.401823</td>\n      <td>-142.519545</td>\n      <td>26.193296</td>\n      <td>4.231381</td>\n    </tr>\n    <tr>\n      <th>3</th>\n      <td>-0.51</td>\n      <td>29.29</td>\n      <td>2019</td>\n      <td>3</td>\n      <td>NaN</td>\n      <td>NaN</td>\n      <td>NaN</td>\n      <td>NaN</td>\n      <td>NaN</td>\n      <td>NaN</td>\n      <td>...</td>\n      <td>5228.507736</td>\n      <td>51064.547339</td>\n      <td>4180.973322</td>\n      <td>15.386899</td>\n      <td>0.262043</td>\n      <td>-11.293399</td>\n      <td>24.380357</td>\n      <td>-132.665828</td>\n      <td>28.829155</td>\n      <td>4.305286</td>\n    </tr>\n    <tr>\n      <th>4</th>\n      <td>-0.51</td>\n      <td>29.29</td>\n      <td>2019</td>\n      <td>4</td>\n      <td>-0.000079</td>\n      <td>0.676296</td>\n      <td>-0.000048</td>\n      <td>0.121164</td>\n      <td>4.121269</td>\n      <td>35.515587</td>\n      <td>...</td>\n      <td>3980.598120</td>\n      <td>63751.125781</td>\n      <td>3355.710107</td>\n      <td>8.114694</td>\n      <td>0.235847</td>\n      <td>38.532263</td>\n      <td>37.392979</td>\n      <td>-141.509805</td>\n      <td>22.204612</td>\n      <td>4.347317</td>\n    </tr>\n  </tbody>\n</table>\n<p>5 rows × 68 columns</p>\n</div>"
     },
     "execution_count": 8,
     "metadata": {},
     "output_type": "execute_result"
    }
   ],
   "source": [
    "# List of columns to drop\n",
    "columns_to_drop = [\n",
    "    'UvAerosolLayerHeight_aerosol_height',\n",
    "    'UvAerosolLayerHeight_aerosol_pressure',\n",
    "    'UvAerosolLayerHeight_aerosol_optical_depth',\n",
    "    'UvAerosolLayerHeight_sensor_zenith_angle',\n",
    "    'UvAerosolLayerHeight_sensor_azimuth_angle',\n",
    "    'UvAerosolLayerHeight_solar_azimuth_angle',\n",
    "    'UvAerosolLayerHeight_solar_zenith_angle'\n",
    "]\n",
    "\n",
    "# Drop the specified columns\n",
    "train_data = train_data.drop(columns=columns_to_drop)\n",
    "\n",
    "# Display the first few rows of the modified dataset\n",
    "train_data.head()"
   ],
   "metadata": {
    "collapsed": false,
    "ExecuteTime": {
     "end_time": "2023-08-14T02:07:18.383302800Z",
     "start_time": "2023-08-14T02:07:18.280395500Z"
    }
   },
   "id": "f5c413546d6f8427"
  },
  {
   "cell_type": "code",
   "execution_count": 9,
   "outputs": [],
   "source": [
    "# Handle missing values using median imputation\n",
    "imputer = SimpleImputer(strategy='median')\n",
    "train_data_imputed = pd.DataFrame(imputer.fit_transform(train_data), columns=train_data.columns)\n"
   ],
   "metadata": {
    "collapsed": false,
    "ExecuteTime": {
     "end_time": "2023-08-14T02:07:19.251782600Z",
     "start_time": "2023-08-14T02:07:18.320089Z"
    }
   },
   "id": "61799406f28b5dfc"
  },
  {
   "cell_type": "code",
   "execution_count": 10,
   "outputs": [
    {
     "data": {
      "text/plain": "   latitude  longitude    year  week_no  \\\n0     -0.51      29.29  2019.0      0.0   \n1     -0.51      29.29  2019.0      1.0   \n2     -0.51      29.29  2019.0      2.0   \n3     -0.51      29.29  2019.0      3.0   \n4     -0.51      29.29  2019.0      4.0   \n\n   SulphurDioxide_SO2_column_number_density  \\\n0                                 -0.000108   \n1                                  0.000021   \n2                                  0.000514   \n3                                  0.000024   \n4                                 -0.000079   \n\n   SulphurDioxide_SO2_column_number_density_amf  \\\n0                                      0.603019   \n1                                      0.728214   \n2                                      0.748199   \n3                                      0.809118   \n4                                      0.676296   \n\n   SulphurDioxide_SO2_slant_column_number_density  \\\n0                                       -0.000065   \n1                                        0.000014   \n2                                        0.000385   \n3                                        0.000019   \n4                                       -0.000048   \n\n   SulphurDioxide_cloud_fraction  SulphurDioxide_sensor_azimuth_angle  \\\n0                       0.255668                           -98.593887   \n1                       0.130988                            16.592861   \n2                       0.110018                            72.795837   \n3                       0.161855                           -12.441726   \n4                       0.121164                             4.121269   \n\n   SulphurDioxide_sensor_zenith_angle  ...  Cloud_cloud_top_height  \\\n0                           50.843559  ...             3664.436218   \n1                           39.137194  ...             3651.190311   \n2                           52.868816  ...             4216.986492   \n3                           37.784299  ...             5228.507736   \n4                           35.515587  ...             3980.598120   \n\n   Cloud_cloud_base_pressure  Cloud_cloud_base_height  \\\n0               61085.809570              2615.120483   \n1               66969.478735              3174.572424   \n2               60068.894448              3516.282669   \n3               51064.547339              4180.973322   \n4               63751.125781              3355.710107   \n\n   Cloud_cloud_optical_depth  Cloud_surface_albedo  \\\n0                  15.568533              0.272292   \n1                   8.690601              0.256830   \n2                  21.103410              0.251101   \n3                  15.386899              0.262043   \n4                   8.114694              0.235847   \n\n   Cloud_sensor_azimuth_angle  Cloud_sensor_zenith_angle  \\\n0                  -12.628986                  35.632416   \n1                   30.359375                  39.557633   \n2                   15.377883                  30.401823   \n3                  -11.293399                  24.380357   \n4                   38.532263                  37.392979   \n\n   Cloud_solar_azimuth_angle  Cloud_solar_zenith_angle  emission  \n0                -138.786423                 30.752140  3.750994  \n1                -145.183930                 27.251779  4.025176  \n2                -142.519545                 26.193296  4.231381  \n3                -132.665828                 28.829155  4.305286  \n4                -141.509805                 22.204612  4.347317  \n\n[5 rows x 68 columns]",
      "text/html": "<div>\n<style scoped>\n    .dataframe tbody tr th:only-of-type {\n        vertical-align: middle;\n    }\n\n    .dataframe tbody tr th {\n        vertical-align: top;\n    }\n\n    .dataframe thead th {\n        text-align: right;\n    }\n</style>\n<table border=\"1\" class=\"dataframe\">\n  <thead>\n    <tr style=\"text-align: right;\">\n      <th></th>\n      <th>latitude</th>\n      <th>longitude</th>\n      <th>year</th>\n      <th>week_no</th>\n      <th>SulphurDioxide_SO2_column_number_density</th>\n      <th>SulphurDioxide_SO2_column_number_density_amf</th>\n      <th>SulphurDioxide_SO2_slant_column_number_density</th>\n      <th>SulphurDioxide_cloud_fraction</th>\n      <th>SulphurDioxide_sensor_azimuth_angle</th>\n      <th>SulphurDioxide_sensor_zenith_angle</th>\n      <th>...</th>\n      <th>Cloud_cloud_top_height</th>\n      <th>Cloud_cloud_base_pressure</th>\n      <th>Cloud_cloud_base_height</th>\n      <th>Cloud_cloud_optical_depth</th>\n      <th>Cloud_surface_albedo</th>\n      <th>Cloud_sensor_azimuth_angle</th>\n      <th>Cloud_sensor_zenith_angle</th>\n      <th>Cloud_solar_azimuth_angle</th>\n      <th>Cloud_solar_zenith_angle</th>\n      <th>emission</th>\n    </tr>\n  </thead>\n  <tbody>\n    <tr>\n      <th>0</th>\n      <td>-0.51</td>\n      <td>29.29</td>\n      <td>2019.0</td>\n      <td>0.0</td>\n      <td>-0.000108</td>\n      <td>0.603019</td>\n      <td>-0.000065</td>\n      <td>0.255668</td>\n      <td>-98.593887</td>\n      <td>50.843559</td>\n      <td>...</td>\n      <td>3664.436218</td>\n      <td>61085.809570</td>\n      <td>2615.120483</td>\n      <td>15.568533</td>\n      <td>0.272292</td>\n      <td>-12.628986</td>\n      <td>35.632416</td>\n      <td>-138.786423</td>\n      <td>30.752140</td>\n      <td>3.750994</td>\n    </tr>\n    <tr>\n      <th>1</th>\n      <td>-0.51</td>\n      <td>29.29</td>\n      <td>2019.0</td>\n      <td>1.0</td>\n      <td>0.000021</td>\n      <td>0.728214</td>\n      <td>0.000014</td>\n      <td>0.130988</td>\n      <td>16.592861</td>\n      <td>39.137194</td>\n      <td>...</td>\n      <td>3651.190311</td>\n      <td>66969.478735</td>\n      <td>3174.572424</td>\n      <td>8.690601</td>\n      <td>0.256830</td>\n      <td>30.359375</td>\n      <td>39.557633</td>\n      <td>-145.183930</td>\n      <td>27.251779</td>\n      <td>4.025176</td>\n    </tr>\n    <tr>\n      <th>2</th>\n      <td>-0.51</td>\n      <td>29.29</td>\n      <td>2019.0</td>\n      <td>2.0</td>\n      <td>0.000514</td>\n      <td>0.748199</td>\n      <td>0.000385</td>\n      <td>0.110018</td>\n      <td>72.795837</td>\n      <td>52.868816</td>\n      <td>...</td>\n      <td>4216.986492</td>\n      <td>60068.894448</td>\n      <td>3516.282669</td>\n      <td>21.103410</td>\n      <td>0.251101</td>\n      <td>15.377883</td>\n      <td>30.401823</td>\n      <td>-142.519545</td>\n      <td>26.193296</td>\n      <td>4.231381</td>\n    </tr>\n    <tr>\n      <th>3</th>\n      <td>-0.51</td>\n      <td>29.29</td>\n      <td>2019.0</td>\n      <td>3.0</td>\n      <td>0.000024</td>\n      <td>0.809118</td>\n      <td>0.000019</td>\n      <td>0.161855</td>\n      <td>-12.441726</td>\n      <td>37.784299</td>\n      <td>...</td>\n      <td>5228.507736</td>\n      <td>51064.547339</td>\n      <td>4180.973322</td>\n      <td>15.386899</td>\n      <td>0.262043</td>\n      <td>-11.293399</td>\n      <td>24.380357</td>\n      <td>-132.665828</td>\n      <td>28.829155</td>\n      <td>4.305286</td>\n    </tr>\n    <tr>\n      <th>4</th>\n      <td>-0.51</td>\n      <td>29.29</td>\n      <td>2019.0</td>\n      <td>4.0</td>\n      <td>-0.000079</td>\n      <td>0.676296</td>\n      <td>-0.000048</td>\n      <td>0.121164</td>\n      <td>4.121269</td>\n      <td>35.515587</td>\n      <td>...</td>\n      <td>3980.598120</td>\n      <td>63751.125781</td>\n      <td>3355.710107</td>\n      <td>8.114694</td>\n      <td>0.235847</td>\n      <td>38.532263</td>\n      <td>37.392979</td>\n      <td>-141.509805</td>\n      <td>22.204612</td>\n      <td>4.347317</td>\n    </tr>\n  </tbody>\n</table>\n<p>5 rows × 68 columns</p>\n</div>"
     },
     "execution_count": 10,
     "metadata": {},
     "output_type": "execute_result"
    }
   ],
   "source": [
    "train_data_imputed.head()"
   ],
   "metadata": {
    "collapsed": false,
    "ExecuteTime": {
     "end_time": "2023-08-14T02:07:19.278534700Z",
     "start_time": "2023-08-14T02:07:19.251782600Z"
    }
   },
   "id": "43bd43af2f5f9ab4"
  },
  {
   "cell_type": "markdown",
   "source": [
    "Given the situation, I'll take the following steps intially to find the feature importance (Feature Engineering)\n",
    "\n",
    "Use a 80% random sample of the dataset to make the computations more manageable.\n",
    "Train the Random Forest model on this sample.\n",
    "Evaluate feature importance based on this model"
   ],
   "metadata": {
    "collapsed": false
   },
   "id": "84dec268cc00d973"
  },
  {
   "cell_type": "code",
   "execution_count": 11,
   "outputs": [],
   "source": [
    "# Sample a fraction of the data to make computations more manageable\n",
    "sample_fraction = 0.5  # 50% of the data\n",
    "train_sample = train_data_imputed.sample(frac=sample_fraction, random_state=42)\n"
   ],
   "metadata": {
    "collapsed": false,
    "ExecuteTime": {
     "end_time": "2023-08-14T02:07:19.306965900Z",
     "start_time": "2023-08-14T02:07:19.278534700Z"
    }
   },
   "id": "1a822bfb64276ae0"
  },
  {
   "cell_type": "code",
   "execution_count": 12,
   "outputs": [],
   "source": [
    "# Split the sampled data into training and validation sets\n",
    "X_sample = train_sample.drop(columns=['emission'])\n",
    "y_sample = train_sample['emission']\n",
    "X_train_sample, X_valid_sample, y_train_sample, y_valid_sample = train_test_split(X_sample, y_sample, test_size=0.2, random_state=42)"
   ],
   "metadata": {
    "collapsed": false,
    "ExecuteTime": {
     "end_time": "2023-08-14T02:07:19.402853300Z",
     "start_time": "2023-08-14T02:07:19.306965900Z"
    }
   },
   "id": "94dd063c7af44a07"
  },
  {
   "cell_type": "code",
   "execution_count": 45,
   "outputs": [
    {
     "data": {
      "text/plain": "76421      4.991847\n11813     53.378754\n53870    318.966500\n36086    202.817950\n68843     37.776096\n            ...    \n27545    158.708540\n69720     83.778114\n60992    132.458450\n61148      2.930360\n25248      0.140064\nName: emission, Length: 31609, dtype: float64"
     },
     "execution_count": 45,
     "metadata": {},
     "output_type": "execute_result"
    }
   ],
   "source": [
    "y_train_sample"
   ],
   "metadata": {
    "collapsed": false,
    "ExecuteTime": {
     "end_time": "2023-08-14T02:55:51.742965100Z",
     "start_time": "2023-08-14T02:55:51.730823500Z"
    }
   },
   "id": "5e023eabdfe6ec31"
  },
  {
   "cell_type": "code",
   "execution_count": 14,
   "outputs": [
    {
     "data": {
      "text/plain": "7903"
     },
     "execution_count": 14,
     "metadata": {},
     "output_type": "execute_result"
    }
   ],
   "source": [
    "len(X_valid_sample)"
   ],
   "metadata": {
    "collapsed": false,
    "ExecuteTime": {
     "end_time": "2023-08-14T02:07:19.418550300Z",
     "start_time": "2023-08-14T02:07:19.342243Z"
    }
   },
   "id": "7c4393f1f67ff7a3"
  },
  {
   "cell_type": "code",
   "execution_count": 15,
   "outputs": [
    {
     "data": {
      "text/plain": "RandomForestRegressor(random_state=42)",
      "text/html": "<style>#sk-container-id-1 {color: black;}#sk-container-id-1 pre{padding: 0;}#sk-container-id-1 div.sk-toggleable {background-color: white;}#sk-container-id-1 label.sk-toggleable__label {cursor: pointer;display: block;width: 100%;margin-bottom: 0;padding: 0.3em;box-sizing: border-box;text-align: center;}#sk-container-id-1 label.sk-toggleable__label-arrow:before {content: \"▸\";float: left;margin-right: 0.25em;color: #696969;}#sk-container-id-1 label.sk-toggleable__label-arrow:hover:before {color: black;}#sk-container-id-1 div.sk-estimator:hover label.sk-toggleable__label-arrow:before {color: black;}#sk-container-id-1 div.sk-toggleable__content {max-height: 0;max-width: 0;overflow: hidden;text-align: left;background-color: #f0f8ff;}#sk-container-id-1 div.sk-toggleable__content pre {margin: 0.2em;color: black;border-radius: 0.25em;background-color: #f0f8ff;}#sk-container-id-1 input.sk-toggleable__control:checked~div.sk-toggleable__content {max-height: 200px;max-width: 100%;overflow: auto;}#sk-container-id-1 input.sk-toggleable__control:checked~label.sk-toggleable__label-arrow:before {content: \"▾\";}#sk-container-id-1 div.sk-estimator input.sk-toggleable__control:checked~label.sk-toggleable__label {background-color: #d4ebff;}#sk-container-id-1 div.sk-label input.sk-toggleable__control:checked~label.sk-toggleable__label {background-color: #d4ebff;}#sk-container-id-1 input.sk-hidden--visually {border: 0;clip: rect(1px 1px 1px 1px);clip: rect(1px, 1px, 1px, 1px);height: 1px;margin: -1px;overflow: hidden;padding: 0;position: absolute;width: 1px;}#sk-container-id-1 div.sk-estimator {font-family: monospace;background-color: #f0f8ff;border: 1px dotted black;border-radius: 0.25em;box-sizing: border-box;margin-bottom: 0.5em;}#sk-container-id-1 div.sk-estimator:hover {background-color: #d4ebff;}#sk-container-id-1 div.sk-parallel-item::after {content: \"\";width: 100%;border-bottom: 1px solid gray;flex-grow: 1;}#sk-container-id-1 div.sk-label:hover label.sk-toggleable__label {background-color: #d4ebff;}#sk-container-id-1 div.sk-serial::before {content: \"\";position: absolute;border-left: 1px solid gray;box-sizing: border-box;top: 0;bottom: 0;left: 50%;z-index: 0;}#sk-container-id-1 div.sk-serial {display: flex;flex-direction: column;align-items: center;background-color: white;padding-right: 0.2em;padding-left: 0.2em;position: relative;}#sk-container-id-1 div.sk-item {position: relative;z-index: 1;}#sk-container-id-1 div.sk-parallel {display: flex;align-items: stretch;justify-content: center;background-color: white;position: relative;}#sk-container-id-1 div.sk-item::before, #sk-container-id-1 div.sk-parallel-item::before {content: \"\";position: absolute;border-left: 1px solid gray;box-sizing: border-box;top: 0;bottom: 0;left: 50%;z-index: -1;}#sk-container-id-1 div.sk-parallel-item {display: flex;flex-direction: column;z-index: 1;position: relative;background-color: white;}#sk-container-id-1 div.sk-parallel-item:first-child::after {align-self: flex-end;width: 50%;}#sk-container-id-1 div.sk-parallel-item:last-child::after {align-self: flex-start;width: 50%;}#sk-container-id-1 div.sk-parallel-item:only-child::after {width: 0;}#sk-container-id-1 div.sk-dashed-wrapped {border: 1px dashed gray;margin: 0 0.4em 0.5em 0.4em;box-sizing: border-box;padding-bottom: 0.4em;background-color: white;}#sk-container-id-1 div.sk-label label {font-family: monospace;font-weight: bold;display: inline-block;line-height: 1.2em;}#sk-container-id-1 div.sk-label-container {text-align: center;}#sk-container-id-1 div.sk-container {/* jupyter's `normalize.less` sets `[hidden] { display: none; }` but bootstrap.min.css set `[hidden] { display: none !important; }` so we also need the `!important` here to be able to override the default hidden behavior on the sphinx rendered scikit-learn.org. See: https://github.com/scikit-learn/scikit-learn/issues/21755 */display: inline-block !important;position: relative;}#sk-container-id-1 div.sk-text-repr-fallback {display: none;}</style><div id=\"sk-container-id-1\" class=\"sk-top-container\"><div class=\"sk-text-repr-fallback\"><pre>RandomForestRegressor(random_state=42)</pre><b>In a Jupyter environment, please rerun this cell to show the HTML representation or trust the notebook. <br />On GitHub, the HTML representation is unable to render, please try loading this page with nbviewer.org.</b></div><div class=\"sk-container\" hidden><div class=\"sk-item\"><div class=\"sk-estimator sk-toggleable\"><input class=\"sk-toggleable__control sk-hidden--visually\" id=\"sk-estimator-id-1\" type=\"checkbox\" checked><label for=\"sk-estimator-id-1\" class=\"sk-toggleable__label sk-toggleable__label-arrow\">RandomForestRegressor</label><div class=\"sk-toggleable__content\"><pre>RandomForestRegressor(random_state=42)</pre></div></div></div></div></div>"
     },
     "execution_count": 15,
     "metadata": {},
     "output_type": "execute_result"
    }
   ],
   "source": [
    "# Train a Random Forest model on the sampled data\n",
    "rf_sample = RandomForestRegressor(n_estimators=100, random_state=42)\n",
    "rf_sample.fit(X_train_sample, y_train_sample)"
   ],
   "metadata": {
    "collapsed": false,
    "ExecuteTime": {
     "end_time": "2023-08-14T02:16:59.407421700Z",
     "start_time": "2023-08-14T02:07:19.354887400Z"
    }
   },
   "id": "8fb96d71955b3ed5"
  },
  {
   "cell_type": "code",
   "execution_count": 16,
   "outputs": [
    {
     "data": {
      "text/plain": "529.826172645584"
     },
     "execution_count": 16,
     "metadata": {},
     "output_type": "execute_result"
    }
   ],
   "source": [
    "# Evaluate the model on the validation set\n",
    "y_pred_sample = rf_sample.predict(X_valid_sample)\n",
    "mse_sample = mean_squared_error(y_valid_sample, y_pred_sample)\n",
    "\n",
    "mse_sample"
   ],
   "metadata": {
    "collapsed": false,
    "ExecuteTime": {
     "end_time": "2023-08-14T02:16:59.713603800Z",
     "start_time": "2023-08-14T02:16:59.407421700Z"
    }
   },
   "id": "beed34ea9002d2ec"
  },
  {
   "cell_type": "code",
   "execution_count": 46,
   "outputs": [
    {
     "name": "stdout",
     "output_type": "stream",
     "text": [
      "R2 Score: 0.9743069850087583\n"
     ]
    }
   ],
   "source": [
    "# Calculate the R2 score using the model.score() method\n",
    "r2_score = rf_sample.score(X_valid_sample, y_valid_sample)\n",
    "print(f'R2 Score: {r2_score}')"
   ],
   "metadata": {
    "collapsed": false,
    "ExecuteTime": {
     "end_time": "2023-08-14T02:56:53.486830100Z",
     "start_time": "2023-08-14T02:56:52.785515800Z"
    }
   },
   "id": "d3abbb3ac6e7a71f"
  },
  {
   "cell_type": "code",
   "execution_count": 57,
   "outputs": [],
   "source": [
    "# Extract feature importances\n",
    "feature_importances = rf_sample.feature_importances_\n"
   ],
   "metadata": {
    "collapsed": false,
    "ExecuteTime": {
     "end_time": "2023-08-14T03:04:11.315753Z",
     "start_time": "2023-08-14T03:04:11.242130600Z"
    }
   },
   "id": "46af3caa350d0844"
  },
  {
   "cell_type": "code",
   "execution_count": 58,
   "outputs": [],
   "source": [
    "# Create a DataFrame for the importances and sort them in descending order\n",
    "importance_df = pd.DataFrame({\n",
    "    'Feature': X_train_sample.columns,\n",
    "    'Importance': feature_importances\n",
    "}).sort_values(by='Importance', ascending=False)"
   ],
   "metadata": {
    "collapsed": false,
    "ExecuteTime": {
     "end_time": "2023-08-14T03:04:13.288496100Z",
     "start_time": "2023-08-14T03:04:13.272523300Z"
    }
   },
   "id": "8f79e199ade7f457"
  },
  {
   "cell_type": "code",
   "execution_count": 49,
   "outputs": [
    {
     "data": {
      "text/plain": "                                    Feature  Importance\n1                                 longitude    0.705643\n0                                  latitude    0.170188\n3                                   week_no    0.062218\n47           Ozone_O3_column_number_density    0.004409\n46        UvAerosolIndex_solar_zenith_angle    0.003644\n13  CarbonMonoxide_CO_column_number_density    0.002739\n55                 Ozone_solar_zenith_angle    0.002323\n62                     Cloud_surface_albedo    0.002280\n7             SulphurDioxide_cloud_fraction    0.002175\n15              CarbonMonoxide_cloud_height    0.001735",
      "text/html": "<div>\n<style scoped>\n    .dataframe tbody tr th:only-of-type {\n        vertical-align: middle;\n    }\n\n    .dataframe tbody tr th {\n        vertical-align: top;\n    }\n\n    .dataframe thead th {\n        text-align: right;\n    }\n</style>\n<table border=\"1\" class=\"dataframe\">\n  <thead>\n    <tr style=\"text-align: right;\">\n      <th></th>\n      <th>Feature</th>\n      <th>Importance</th>\n    </tr>\n  </thead>\n  <tbody>\n    <tr>\n      <th>1</th>\n      <td>longitude</td>\n      <td>0.705643</td>\n    </tr>\n    <tr>\n      <th>0</th>\n      <td>latitude</td>\n      <td>0.170188</td>\n    </tr>\n    <tr>\n      <th>3</th>\n      <td>week_no</td>\n      <td>0.062218</td>\n    </tr>\n    <tr>\n      <th>47</th>\n      <td>Ozone_O3_column_number_density</td>\n      <td>0.004409</td>\n    </tr>\n    <tr>\n      <th>46</th>\n      <td>UvAerosolIndex_solar_zenith_angle</td>\n      <td>0.003644</td>\n    </tr>\n    <tr>\n      <th>13</th>\n      <td>CarbonMonoxide_CO_column_number_density</td>\n      <td>0.002739</td>\n    </tr>\n    <tr>\n      <th>55</th>\n      <td>Ozone_solar_zenith_angle</td>\n      <td>0.002323</td>\n    </tr>\n    <tr>\n      <th>62</th>\n      <td>Cloud_surface_albedo</td>\n      <td>0.002280</td>\n    </tr>\n    <tr>\n      <th>7</th>\n      <td>SulphurDioxide_cloud_fraction</td>\n      <td>0.002175</td>\n    </tr>\n    <tr>\n      <th>15</th>\n      <td>CarbonMonoxide_cloud_height</td>\n      <td>0.001735</td>\n    </tr>\n  </tbody>\n</table>\n</div>"
     },
     "execution_count": 49,
     "metadata": {},
     "output_type": "execute_result"
    }
   ],
   "source": [
    "importance_df.head(10)  # Display the top 10 important features"
   ],
   "metadata": {
    "collapsed": false,
    "ExecuteTime": {
     "end_time": "2023-08-14T02:59:30.251988600Z",
     "start_time": "2023-08-14T02:59:30.236136400Z"
    }
   },
   "id": "da9d6a76a3694e35"
  },
  {
   "cell_type": "code",
   "execution_count": 59,
   "outputs": [
    {
     "data": {
      "text/plain": "       ID_LAT_LON_YEAR_WEEK  latitude  longitude  year  week_no  \\\n0  ID_-0.510_29.290_2022_00     -0.51      29.29  2022        0   \n1  ID_-0.510_29.290_2022_01     -0.51      29.29  2022        1   \n2  ID_-0.510_29.290_2022_02     -0.51      29.29  2022        2   \n3  ID_-0.510_29.290_2022_03     -0.51      29.29  2022        3   \n4  ID_-0.510_29.290_2022_04     -0.51      29.29  2022        4   \n\n   SulphurDioxide_SO2_column_number_density  \\\n0                                       NaN   \n1                                  0.000456   \n2                                  0.000161   \n3                                  0.000350   \n4                                 -0.000317   \n\n   SulphurDioxide_SO2_column_number_density_amf  \\\n0                                           NaN   \n1                                      0.691164   \n2                                      0.605107   \n3                                      0.696917   \n4                                      0.580527   \n\n   SulphurDioxide_SO2_slant_column_number_density  \\\n0                                             NaN   \n1                                        0.000316   \n2                                        0.000106   \n3                                        0.000243   \n4                                       -0.000184   \n\n   SulphurDioxide_cloud_fraction  SulphurDioxide_sensor_azimuth_angle  ...  \\\n0                            NaN                                  NaN  ...   \n1                       0.000000                            76.239196  ...   \n2                       0.079870                           -42.055341  ...   \n3                       0.201028                            72.169566  ...   \n4                       0.204352                            76.190865  ...   \n\n   Cloud_cloud_top_pressure  Cloud_cloud_top_height  \\\n0              36022.027344             8472.313477   \n1              48539.737242             6476.147323   \n2              34133.080469             8984.795703   \n3              50854.991076             6014.724059   \n4              46594.685145             6849.280477   \n\n   Cloud_cloud_base_pressure  Cloud_cloud_base_height  \\\n0               41047.937500              7472.313477   \n1               54915.708579              5476.147161   \n2               39006.093750              7984.795703   \n3               57646.368368              5014.724115   \n4               52896.541873              5849.280394   \n\n   Cloud_cloud_optical_depth  Cloud_surface_albedo  \\\n0                   7.935617              0.240773   \n1                  11.448437              0.293119   \n2                  10.753179              0.267130   \n3                  11.764556              0.304679   \n4                  13.065317              0.284221   \n\n   Cloud_sensor_azimuth_angle  Cloud_sensor_zenith_angle  \\\n0                 -100.113792                  33.697044   \n1                  -30.510319                  42.402593   \n2                   39.087361                  45.936480   \n3                  -24.465127                  42.140419   \n4                  -12.907850                  30.122641   \n\n   Cloud_solar_azimuth_angle  Cloud_solar_zenith_angle  \n0                -133.047546                 33.779583  \n1                -138.632822                 31.012380  \n2                -144.784988                 26.743361  \n3                -135.027891                 29.604774  \n4                -135.500119                 26.276807  \n\n[5 rows x 75 columns]",
      "text/html": "<div>\n<style scoped>\n    .dataframe tbody tr th:only-of-type {\n        vertical-align: middle;\n    }\n\n    .dataframe tbody tr th {\n        vertical-align: top;\n    }\n\n    .dataframe thead th {\n        text-align: right;\n    }\n</style>\n<table border=\"1\" class=\"dataframe\">\n  <thead>\n    <tr style=\"text-align: right;\">\n      <th></th>\n      <th>ID_LAT_LON_YEAR_WEEK</th>\n      <th>latitude</th>\n      <th>longitude</th>\n      <th>year</th>\n      <th>week_no</th>\n      <th>SulphurDioxide_SO2_column_number_density</th>\n      <th>SulphurDioxide_SO2_column_number_density_amf</th>\n      <th>SulphurDioxide_SO2_slant_column_number_density</th>\n      <th>SulphurDioxide_cloud_fraction</th>\n      <th>SulphurDioxide_sensor_azimuth_angle</th>\n      <th>...</th>\n      <th>Cloud_cloud_top_pressure</th>\n      <th>Cloud_cloud_top_height</th>\n      <th>Cloud_cloud_base_pressure</th>\n      <th>Cloud_cloud_base_height</th>\n      <th>Cloud_cloud_optical_depth</th>\n      <th>Cloud_surface_albedo</th>\n      <th>Cloud_sensor_azimuth_angle</th>\n      <th>Cloud_sensor_zenith_angle</th>\n      <th>Cloud_solar_azimuth_angle</th>\n      <th>Cloud_solar_zenith_angle</th>\n    </tr>\n  </thead>\n  <tbody>\n    <tr>\n      <th>0</th>\n      <td>ID_-0.510_29.290_2022_00</td>\n      <td>-0.51</td>\n      <td>29.29</td>\n      <td>2022</td>\n      <td>0</td>\n      <td>NaN</td>\n      <td>NaN</td>\n      <td>NaN</td>\n      <td>NaN</td>\n      <td>NaN</td>\n      <td>...</td>\n      <td>36022.027344</td>\n      <td>8472.313477</td>\n      <td>41047.937500</td>\n      <td>7472.313477</td>\n      <td>7.935617</td>\n      <td>0.240773</td>\n      <td>-100.113792</td>\n      <td>33.697044</td>\n      <td>-133.047546</td>\n      <td>33.779583</td>\n    </tr>\n    <tr>\n      <th>1</th>\n      <td>ID_-0.510_29.290_2022_01</td>\n      <td>-0.51</td>\n      <td>29.29</td>\n      <td>2022</td>\n      <td>1</td>\n      <td>0.000456</td>\n      <td>0.691164</td>\n      <td>0.000316</td>\n      <td>0.000000</td>\n      <td>76.239196</td>\n      <td>...</td>\n      <td>48539.737242</td>\n      <td>6476.147323</td>\n      <td>54915.708579</td>\n      <td>5476.147161</td>\n      <td>11.448437</td>\n      <td>0.293119</td>\n      <td>-30.510319</td>\n      <td>42.402593</td>\n      <td>-138.632822</td>\n      <td>31.012380</td>\n    </tr>\n    <tr>\n      <th>2</th>\n      <td>ID_-0.510_29.290_2022_02</td>\n      <td>-0.51</td>\n      <td>29.29</td>\n      <td>2022</td>\n      <td>2</td>\n      <td>0.000161</td>\n      <td>0.605107</td>\n      <td>0.000106</td>\n      <td>0.079870</td>\n      <td>-42.055341</td>\n      <td>...</td>\n      <td>34133.080469</td>\n      <td>8984.795703</td>\n      <td>39006.093750</td>\n      <td>7984.795703</td>\n      <td>10.753179</td>\n      <td>0.267130</td>\n      <td>39.087361</td>\n      <td>45.936480</td>\n      <td>-144.784988</td>\n      <td>26.743361</td>\n    </tr>\n    <tr>\n      <th>3</th>\n      <td>ID_-0.510_29.290_2022_03</td>\n      <td>-0.51</td>\n      <td>29.29</td>\n      <td>2022</td>\n      <td>3</td>\n      <td>0.000350</td>\n      <td>0.696917</td>\n      <td>0.000243</td>\n      <td>0.201028</td>\n      <td>72.169566</td>\n      <td>...</td>\n      <td>50854.991076</td>\n      <td>6014.724059</td>\n      <td>57646.368368</td>\n      <td>5014.724115</td>\n      <td>11.764556</td>\n      <td>0.304679</td>\n      <td>-24.465127</td>\n      <td>42.140419</td>\n      <td>-135.027891</td>\n      <td>29.604774</td>\n    </tr>\n    <tr>\n      <th>4</th>\n      <td>ID_-0.510_29.290_2022_04</td>\n      <td>-0.51</td>\n      <td>29.29</td>\n      <td>2022</td>\n      <td>4</td>\n      <td>-0.000317</td>\n      <td>0.580527</td>\n      <td>-0.000184</td>\n      <td>0.204352</td>\n      <td>76.190865</td>\n      <td>...</td>\n      <td>46594.685145</td>\n      <td>6849.280477</td>\n      <td>52896.541873</td>\n      <td>5849.280394</td>\n      <td>13.065317</td>\n      <td>0.284221</td>\n      <td>-12.907850</td>\n      <td>30.122641</td>\n      <td>-135.500119</td>\n      <td>26.276807</td>\n    </tr>\n  </tbody>\n</table>\n<p>5 rows × 75 columns</p>\n</div>"
     },
     "execution_count": 59,
     "metadata": {},
     "output_type": "execute_result"
    }
   ],
   "source": [
    "# Load the test dataset\n",
    "test_data = pd.read_csv(r'C:\\Users\\Syed Asad\\OneDrive\\Desktop\\Python Files\\Data Analysis\\Kaggle Competitions\\Predicting CO2 Emissions for Rwanda\\test.csv')\n",
    "test_data.head()"
   ],
   "metadata": {
    "collapsed": false,
    "ExecuteTime": {
     "end_time": "2023-08-14T03:04:18.648059200Z",
     "start_time": "2023-08-14T03:04:18.292446200Z"
    }
   },
   "id": "9c90f57889303e50"
  },
  {
   "cell_type": "code",
   "execution_count": 60,
   "outputs": [],
   "source": [
    "# Drop the ID column from the test dataset\n",
    "test_data = test_data.drop(columns=['ID_LAT_LON_YEAR_WEEK'])"
   ],
   "metadata": {
    "collapsed": false,
    "ExecuteTime": {
     "end_time": "2023-08-14T03:04:21.441793200Z",
     "start_time": "2023-08-14T03:04:21.410524600Z"
    }
   },
   "id": "efe087c64bc8d791"
  },
  {
   "cell_type": "code",
   "execution_count": 61,
   "outputs": [
    {
     "data": {
      "text/plain": "   latitude  longitude  year  week_no  \\\n0     -0.51      29.29  2022        0   \n1     -0.51      29.29  2022        1   \n2     -0.51      29.29  2022        2   \n3     -0.51      29.29  2022        3   \n4     -0.51      29.29  2022        4   \n\n   SulphurDioxide_SO2_column_number_density  \\\n0                                       NaN   \n1                                  0.000456   \n2                                  0.000161   \n3                                  0.000350   \n4                                 -0.000317   \n\n   SulphurDioxide_SO2_column_number_density_amf  \\\n0                                           NaN   \n1                                      0.691164   \n2                                      0.605107   \n3                                      0.696917   \n4                                      0.580527   \n\n   SulphurDioxide_SO2_slant_column_number_density  \\\n0                                             NaN   \n1                                        0.000316   \n2                                        0.000106   \n3                                        0.000243   \n4                                       -0.000184   \n\n   SulphurDioxide_cloud_fraction  SulphurDioxide_sensor_azimuth_angle  \\\n0                            NaN                                  NaN   \n1                       0.000000                            76.239196   \n2                       0.079870                           -42.055341   \n3                       0.201028                            72.169566   \n4                       0.204352                            76.190865   \n\n   SulphurDioxide_sensor_zenith_angle  ...  Cloud_cloud_top_pressure  \\\n0                                 NaN  ...              36022.027344   \n1                           15.600607  ...              48539.737242   \n2                           39.889060  ...              34133.080469   \n3                           58.862543  ...              50854.991076   \n4                           15.646016  ...              46594.685145   \n\n   Cloud_cloud_top_height  Cloud_cloud_base_pressure  Cloud_cloud_base_height  \\\n0             8472.313477               41047.937500              7472.313477   \n1             6476.147323               54915.708579              5476.147161   \n2             8984.795703               39006.093750              7984.795703   \n3             6014.724059               57646.368368              5014.724115   \n4             6849.280477               52896.541873              5849.280394   \n\n   Cloud_cloud_optical_depth  Cloud_surface_albedo  \\\n0                   7.935617              0.240773   \n1                  11.448437              0.293119   \n2                  10.753179              0.267130   \n3                  11.764556              0.304679   \n4                  13.065317              0.284221   \n\n   Cloud_sensor_azimuth_angle  Cloud_sensor_zenith_angle  \\\n0                 -100.113792                  33.697044   \n1                  -30.510319                  42.402593   \n2                   39.087361                  45.936480   \n3                  -24.465127                  42.140419   \n4                  -12.907850                  30.122641   \n\n   Cloud_solar_azimuth_angle  Cloud_solar_zenith_angle  \n0                -133.047546                 33.779583  \n1                -138.632822                 31.012380  \n2                -144.784988                 26.743361  \n3                -135.027891                 29.604774  \n4                -135.500119                 26.276807  \n\n[5 rows x 74 columns]",
      "text/html": "<div>\n<style scoped>\n    .dataframe tbody tr th:only-of-type {\n        vertical-align: middle;\n    }\n\n    .dataframe tbody tr th {\n        vertical-align: top;\n    }\n\n    .dataframe thead th {\n        text-align: right;\n    }\n</style>\n<table border=\"1\" class=\"dataframe\">\n  <thead>\n    <tr style=\"text-align: right;\">\n      <th></th>\n      <th>latitude</th>\n      <th>longitude</th>\n      <th>year</th>\n      <th>week_no</th>\n      <th>SulphurDioxide_SO2_column_number_density</th>\n      <th>SulphurDioxide_SO2_column_number_density_amf</th>\n      <th>SulphurDioxide_SO2_slant_column_number_density</th>\n      <th>SulphurDioxide_cloud_fraction</th>\n      <th>SulphurDioxide_sensor_azimuth_angle</th>\n      <th>SulphurDioxide_sensor_zenith_angle</th>\n      <th>...</th>\n      <th>Cloud_cloud_top_pressure</th>\n      <th>Cloud_cloud_top_height</th>\n      <th>Cloud_cloud_base_pressure</th>\n      <th>Cloud_cloud_base_height</th>\n      <th>Cloud_cloud_optical_depth</th>\n      <th>Cloud_surface_albedo</th>\n      <th>Cloud_sensor_azimuth_angle</th>\n      <th>Cloud_sensor_zenith_angle</th>\n      <th>Cloud_solar_azimuth_angle</th>\n      <th>Cloud_solar_zenith_angle</th>\n    </tr>\n  </thead>\n  <tbody>\n    <tr>\n      <th>0</th>\n      <td>-0.51</td>\n      <td>29.29</td>\n      <td>2022</td>\n      <td>0</td>\n      <td>NaN</td>\n      <td>NaN</td>\n      <td>NaN</td>\n      <td>NaN</td>\n      <td>NaN</td>\n      <td>NaN</td>\n      <td>...</td>\n      <td>36022.027344</td>\n      <td>8472.313477</td>\n      <td>41047.937500</td>\n      <td>7472.313477</td>\n      <td>7.935617</td>\n      <td>0.240773</td>\n      <td>-100.113792</td>\n      <td>33.697044</td>\n      <td>-133.047546</td>\n      <td>33.779583</td>\n    </tr>\n    <tr>\n      <th>1</th>\n      <td>-0.51</td>\n      <td>29.29</td>\n      <td>2022</td>\n      <td>1</td>\n      <td>0.000456</td>\n      <td>0.691164</td>\n      <td>0.000316</td>\n      <td>0.000000</td>\n      <td>76.239196</td>\n      <td>15.600607</td>\n      <td>...</td>\n      <td>48539.737242</td>\n      <td>6476.147323</td>\n      <td>54915.708579</td>\n      <td>5476.147161</td>\n      <td>11.448437</td>\n      <td>0.293119</td>\n      <td>-30.510319</td>\n      <td>42.402593</td>\n      <td>-138.632822</td>\n      <td>31.012380</td>\n    </tr>\n    <tr>\n      <th>2</th>\n      <td>-0.51</td>\n      <td>29.29</td>\n      <td>2022</td>\n      <td>2</td>\n      <td>0.000161</td>\n      <td>0.605107</td>\n      <td>0.000106</td>\n      <td>0.079870</td>\n      <td>-42.055341</td>\n      <td>39.889060</td>\n      <td>...</td>\n      <td>34133.080469</td>\n      <td>8984.795703</td>\n      <td>39006.093750</td>\n      <td>7984.795703</td>\n      <td>10.753179</td>\n      <td>0.267130</td>\n      <td>39.087361</td>\n      <td>45.936480</td>\n      <td>-144.784988</td>\n      <td>26.743361</td>\n    </tr>\n    <tr>\n      <th>3</th>\n      <td>-0.51</td>\n      <td>29.29</td>\n      <td>2022</td>\n      <td>3</td>\n      <td>0.000350</td>\n      <td>0.696917</td>\n      <td>0.000243</td>\n      <td>0.201028</td>\n      <td>72.169566</td>\n      <td>58.862543</td>\n      <td>...</td>\n      <td>50854.991076</td>\n      <td>6014.724059</td>\n      <td>57646.368368</td>\n      <td>5014.724115</td>\n      <td>11.764556</td>\n      <td>0.304679</td>\n      <td>-24.465127</td>\n      <td>42.140419</td>\n      <td>-135.027891</td>\n      <td>29.604774</td>\n    </tr>\n    <tr>\n      <th>4</th>\n      <td>-0.51</td>\n      <td>29.29</td>\n      <td>2022</td>\n      <td>4</td>\n      <td>-0.000317</td>\n      <td>0.580527</td>\n      <td>-0.000184</td>\n      <td>0.204352</td>\n      <td>76.190865</td>\n      <td>15.646016</td>\n      <td>...</td>\n      <td>46594.685145</td>\n      <td>6849.280477</td>\n      <td>52896.541873</td>\n      <td>5849.280394</td>\n      <td>13.065317</td>\n      <td>0.284221</td>\n      <td>-12.907850</td>\n      <td>30.122641</td>\n      <td>-135.500119</td>\n      <td>26.276807</td>\n    </tr>\n  </tbody>\n</table>\n<p>5 rows × 74 columns</p>\n</div>"
     },
     "execution_count": 61,
     "metadata": {},
     "output_type": "execute_result"
    }
   ],
   "source": [
    "test_data.head()"
   ],
   "metadata": {
    "collapsed": false,
    "ExecuteTime": {
     "end_time": "2023-08-14T03:04:32.639992200Z",
     "start_time": "2023-08-14T03:04:32.624333400Z"
    }
   },
   "id": "23955beca84a177f"
  },
  {
   "cell_type": "code",
   "execution_count": 62,
   "outputs": [],
   "source": [
    "# List of columns to drop from the test dataset\n",
    "columns_to_drop_test = [\n",
    "    'UvAerosolLayerHeight_aerosol_height',\n",
    "    'UvAerosolLayerHeight_aerosol_pressure',\n",
    "    'UvAerosolLayerHeight_aerosol_optical_depth',\n",
    "    'UvAerosolLayerHeight_sensor_zenith_angle',\n",
    "    'UvAerosolLayerHeight_sensor_azimuth_angle',\n",
    "    'UvAerosolLayerHeight_solar_azimuth_angle',\n",
    "    'UvAerosolLayerHeight_solar_zenith_angle'\n",
    "]"
   ],
   "metadata": {
    "collapsed": false,
    "ExecuteTime": {
     "end_time": "2023-08-14T03:04:36.424397700Z",
     "start_time": "2023-08-14T03:04:36.407134700Z"
    }
   },
   "id": "91e872d82794194f"
  },
  {
   "cell_type": "code",
   "execution_count": 65,
   "outputs": [],
   "source": [
    "# Drop the specified columns from the test dataset\n",
    "test_data_filtered = test_data.drop(columns=columns_to_drop_test)"
   ],
   "metadata": {
    "collapsed": false,
    "ExecuteTime": {
     "end_time": "2023-08-14T03:17:32.684169600Z",
     "start_time": "2023-08-14T03:17:32.649972200Z"
    }
   },
   "id": "17ed5611bdab09c9"
  },
  {
   "cell_type": "code",
   "execution_count": 70,
   "outputs": [
    {
     "data": {
      "text/plain": "SimpleImputer(strategy='median')",
      "text/html": "<style>#sk-container-id-2 {color: black;}#sk-container-id-2 pre{padding: 0;}#sk-container-id-2 div.sk-toggleable {background-color: white;}#sk-container-id-2 label.sk-toggleable__label {cursor: pointer;display: block;width: 100%;margin-bottom: 0;padding: 0.3em;box-sizing: border-box;text-align: center;}#sk-container-id-2 label.sk-toggleable__label-arrow:before {content: \"▸\";float: left;margin-right: 0.25em;color: #696969;}#sk-container-id-2 label.sk-toggleable__label-arrow:hover:before {color: black;}#sk-container-id-2 div.sk-estimator:hover label.sk-toggleable__label-arrow:before {color: black;}#sk-container-id-2 div.sk-toggleable__content {max-height: 0;max-width: 0;overflow: hidden;text-align: left;background-color: #f0f8ff;}#sk-container-id-2 div.sk-toggleable__content pre {margin: 0.2em;color: black;border-radius: 0.25em;background-color: #f0f8ff;}#sk-container-id-2 input.sk-toggleable__control:checked~div.sk-toggleable__content {max-height: 200px;max-width: 100%;overflow: auto;}#sk-container-id-2 input.sk-toggleable__control:checked~label.sk-toggleable__label-arrow:before {content: \"▾\";}#sk-container-id-2 div.sk-estimator input.sk-toggleable__control:checked~label.sk-toggleable__label {background-color: #d4ebff;}#sk-container-id-2 div.sk-label input.sk-toggleable__control:checked~label.sk-toggleable__label {background-color: #d4ebff;}#sk-container-id-2 input.sk-hidden--visually {border: 0;clip: rect(1px 1px 1px 1px);clip: rect(1px, 1px, 1px, 1px);height: 1px;margin: -1px;overflow: hidden;padding: 0;position: absolute;width: 1px;}#sk-container-id-2 div.sk-estimator {font-family: monospace;background-color: #f0f8ff;border: 1px dotted black;border-radius: 0.25em;box-sizing: border-box;margin-bottom: 0.5em;}#sk-container-id-2 div.sk-estimator:hover {background-color: #d4ebff;}#sk-container-id-2 div.sk-parallel-item::after {content: \"\";width: 100%;border-bottom: 1px solid gray;flex-grow: 1;}#sk-container-id-2 div.sk-label:hover label.sk-toggleable__label {background-color: #d4ebff;}#sk-container-id-2 div.sk-serial::before {content: \"\";position: absolute;border-left: 1px solid gray;box-sizing: border-box;top: 0;bottom: 0;left: 50%;z-index: 0;}#sk-container-id-2 div.sk-serial {display: flex;flex-direction: column;align-items: center;background-color: white;padding-right: 0.2em;padding-left: 0.2em;position: relative;}#sk-container-id-2 div.sk-item {position: relative;z-index: 1;}#sk-container-id-2 div.sk-parallel {display: flex;align-items: stretch;justify-content: center;background-color: white;position: relative;}#sk-container-id-2 div.sk-item::before, #sk-container-id-2 div.sk-parallel-item::before {content: \"\";position: absolute;border-left: 1px solid gray;box-sizing: border-box;top: 0;bottom: 0;left: 50%;z-index: -1;}#sk-container-id-2 div.sk-parallel-item {display: flex;flex-direction: column;z-index: 1;position: relative;background-color: white;}#sk-container-id-2 div.sk-parallel-item:first-child::after {align-self: flex-end;width: 50%;}#sk-container-id-2 div.sk-parallel-item:last-child::after {align-self: flex-start;width: 50%;}#sk-container-id-2 div.sk-parallel-item:only-child::after {width: 0;}#sk-container-id-2 div.sk-dashed-wrapped {border: 1px dashed gray;margin: 0 0.4em 0.5em 0.4em;box-sizing: border-box;padding-bottom: 0.4em;background-color: white;}#sk-container-id-2 div.sk-label label {font-family: monospace;font-weight: bold;display: inline-block;line-height: 1.2em;}#sk-container-id-2 div.sk-label-container {text-align: center;}#sk-container-id-2 div.sk-container {/* jupyter's `normalize.less` sets `[hidden] { display: none; }` but bootstrap.min.css set `[hidden] { display: none !important; }` so we also need the `!important` here to be able to override the default hidden behavior on the sphinx rendered scikit-learn.org. See: https://github.com/scikit-learn/scikit-learn/issues/21755 */display: inline-block !important;position: relative;}#sk-container-id-2 div.sk-text-repr-fallback {display: none;}</style><div id=\"sk-container-id-2\" class=\"sk-top-container\"><div class=\"sk-text-repr-fallback\"><pre>SimpleImputer(strategy=&#x27;median&#x27;)</pre><b>In a Jupyter environment, please rerun this cell to show the HTML representation or trust the notebook. <br />On GitHub, the HTML representation is unable to render, please try loading this page with nbviewer.org.</b></div><div class=\"sk-container\" hidden><div class=\"sk-item\"><div class=\"sk-estimator sk-toggleable\"><input class=\"sk-toggleable__control sk-hidden--visually\" id=\"sk-estimator-id-2\" type=\"checkbox\" checked><label for=\"sk-estimator-id-2\" class=\"sk-toggleable__label sk-toggleable__label-arrow\">SimpleImputer</label><div class=\"sk-toggleable__content\"><pre>SimpleImputer(strategy=&#x27;median&#x27;)</pre></div></div></div></div></div>"
     },
     "execution_count": 70,
     "metadata": {},
     "output_type": "execute_result"
    }
   ],
   "source": [
    "# Train the imputer again using only predictor features from the training dataset\n",
    "imputer_predictors = SimpleImputer(strategy='median')\n",
    "imputer_predictors.fit(train_data.drop(columns=['emission']))\n"
   ],
   "metadata": {
    "collapsed": false,
    "ExecuteTime": {
     "end_time": "2023-08-14T03:22:34.019899800Z",
     "start_time": "2023-08-14T03:22:33.230102200Z"
    }
   },
   "id": "f5959a9f01f836ee"
  },
  {
   "cell_type": "code",
   "execution_count": 73,
   "outputs": [],
   "source": [
    "# Impute missing values in the test dataset using the new imputer\n",
    "test_data_imputed = pd.DataFrame(imputer_predictors.transform(test_data_filtered), columns=test_data_filtered.columns)"
   ],
   "metadata": {
    "collapsed": false,
    "ExecuteTime": {
     "end_time": "2023-08-14T03:23:28.755678100Z",
     "start_time": "2023-08-14T03:23:28.715337900Z"
    }
   },
   "id": "18a64a8530ad31d1"
  },
  {
   "cell_type": "code",
   "execution_count": 74,
   "outputs": [
    {
     "data": {
      "text/plain": "   latitude  longitude    year  week_no  \\\n0     -0.51      29.29  2022.0      0.0   \n1     -0.51      29.29  2022.0      1.0   \n2     -0.51      29.29  2022.0      2.0   \n3     -0.51      29.29  2022.0      3.0   \n4     -0.51      29.29  2022.0      4.0   \n\n   SulphurDioxide_SO2_column_number_density  \\\n0                                  0.000024   \n1                                  0.000456   \n2                                  0.000161   \n3                                  0.000350   \n4                                 -0.000317   \n\n   SulphurDioxide_SO2_column_number_density_amf  \\\n0                                      0.809118   \n1                                      0.691164   \n2                                      0.605107   \n3                                      0.696917   \n4                                      0.580527   \n\n   SulphurDioxide_SO2_slant_column_number_density  \\\n0                                        0.000019   \n1                                        0.000316   \n2                                        0.000106   \n3                                        0.000243   \n4                                       -0.000184   \n\n   SulphurDioxide_cloud_fraction  SulphurDioxide_sensor_azimuth_angle  \\\n0                       0.161855                           -12.441726   \n1                       0.000000                            76.239196   \n2                       0.079870                           -42.055341   \n3                       0.201028                            72.169566   \n4                       0.204352                            76.190865   \n\n   SulphurDioxide_sensor_zenith_angle  ...  Cloud_cloud_top_pressure  \\\n0                           37.784299  ...              36022.027344   \n1                           15.600607  ...              48539.737242   \n2                           39.889060  ...              34133.080469   \n3                           58.862543  ...              50854.991076   \n4                           15.646016  ...              46594.685145   \n\n   Cloud_cloud_top_height  Cloud_cloud_base_pressure  Cloud_cloud_base_height  \\\n0             8472.313477               41047.937500              7472.313477   \n1             6476.147323               54915.708579              5476.147161   \n2             8984.795703               39006.093750              7984.795703   \n3             6014.724059               57646.368368              5014.724115   \n4             6849.280477               52896.541873              5849.280394   \n\n   Cloud_cloud_optical_depth  Cloud_surface_albedo  \\\n0                   7.935617              0.240773   \n1                  11.448437              0.293119   \n2                  10.753179              0.267130   \n3                  11.764556              0.304679   \n4                  13.065317              0.284221   \n\n   Cloud_sensor_azimuth_angle  Cloud_sensor_zenith_angle  \\\n0                 -100.113792                  33.697044   \n1                  -30.510319                  42.402593   \n2                   39.087361                  45.936480   \n3                  -24.465127                  42.140419   \n4                  -12.907850                  30.122641   \n\n   Cloud_solar_azimuth_angle  Cloud_solar_zenith_angle  \n0                -133.047546                 33.779583  \n1                -138.632822                 31.012380  \n2                -144.784988                 26.743361  \n3                -135.027891                 29.604774  \n4                -135.500119                 26.276807  \n\n[5 rows x 67 columns]",
      "text/html": "<div>\n<style scoped>\n    .dataframe tbody tr th:only-of-type {\n        vertical-align: middle;\n    }\n\n    .dataframe tbody tr th {\n        vertical-align: top;\n    }\n\n    .dataframe thead th {\n        text-align: right;\n    }\n</style>\n<table border=\"1\" class=\"dataframe\">\n  <thead>\n    <tr style=\"text-align: right;\">\n      <th></th>\n      <th>latitude</th>\n      <th>longitude</th>\n      <th>year</th>\n      <th>week_no</th>\n      <th>SulphurDioxide_SO2_column_number_density</th>\n      <th>SulphurDioxide_SO2_column_number_density_amf</th>\n      <th>SulphurDioxide_SO2_slant_column_number_density</th>\n      <th>SulphurDioxide_cloud_fraction</th>\n      <th>SulphurDioxide_sensor_azimuth_angle</th>\n      <th>SulphurDioxide_sensor_zenith_angle</th>\n      <th>...</th>\n      <th>Cloud_cloud_top_pressure</th>\n      <th>Cloud_cloud_top_height</th>\n      <th>Cloud_cloud_base_pressure</th>\n      <th>Cloud_cloud_base_height</th>\n      <th>Cloud_cloud_optical_depth</th>\n      <th>Cloud_surface_albedo</th>\n      <th>Cloud_sensor_azimuth_angle</th>\n      <th>Cloud_sensor_zenith_angle</th>\n      <th>Cloud_solar_azimuth_angle</th>\n      <th>Cloud_solar_zenith_angle</th>\n    </tr>\n  </thead>\n  <tbody>\n    <tr>\n      <th>0</th>\n      <td>-0.51</td>\n      <td>29.29</td>\n      <td>2022.0</td>\n      <td>0.0</td>\n      <td>0.000024</td>\n      <td>0.809118</td>\n      <td>0.000019</td>\n      <td>0.161855</td>\n      <td>-12.441726</td>\n      <td>37.784299</td>\n      <td>...</td>\n      <td>36022.027344</td>\n      <td>8472.313477</td>\n      <td>41047.937500</td>\n      <td>7472.313477</td>\n      <td>7.935617</td>\n      <td>0.240773</td>\n      <td>-100.113792</td>\n      <td>33.697044</td>\n      <td>-133.047546</td>\n      <td>33.779583</td>\n    </tr>\n    <tr>\n      <th>1</th>\n      <td>-0.51</td>\n      <td>29.29</td>\n      <td>2022.0</td>\n      <td>1.0</td>\n      <td>0.000456</td>\n      <td>0.691164</td>\n      <td>0.000316</td>\n      <td>0.000000</td>\n      <td>76.239196</td>\n      <td>15.600607</td>\n      <td>...</td>\n      <td>48539.737242</td>\n      <td>6476.147323</td>\n      <td>54915.708579</td>\n      <td>5476.147161</td>\n      <td>11.448437</td>\n      <td>0.293119</td>\n      <td>-30.510319</td>\n      <td>42.402593</td>\n      <td>-138.632822</td>\n      <td>31.012380</td>\n    </tr>\n    <tr>\n      <th>2</th>\n      <td>-0.51</td>\n      <td>29.29</td>\n      <td>2022.0</td>\n      <td>2.0</td>\n      <td>0.000161</td>\n      <td>0.605107</td>\n      <td>0.000106</td>\n      <td>0.079870</td>\n      <td>-42.055341</td>\n      <td>39.889060</td>\n      <td>...</td>\n      <td>34133.080469</td>\n      <td>8984.795703</td>\n      <td>39006.093750</td>\n      <td>7984.795703</td>\n      <td>10.753179</td>\n      <td>0.267130</td>\n      <td>39.087361</td>\n      <td>45.936480</td>\n      <td>-144.784988</td>\n      <td>26.743361</td>\n    </tr>\n    <tr>\n      <th>3</th>\n      <td>-0.51</td>\n      <td>29.29</td>\n      <td>2022.0</td>\n      <td>3.0</td>\n      <td>0.000350</td>\n      <td>0.696917</td>\n      <td>0.000243</td>\n      <td>0.201028</td>\n      <td>72.169566</td>\n      <td>58.862543</td>\n      <td>...</td>\n      <td>50854.991076</td>\n      <td>6014.724059</td>\n      <td>57646.368368</td>\n      <td>5014.724115</td>\n      <td>11.764556</td>\n      <td>0.304679</td>\n      <td>-24.465127</td>\n      <td>42.140419</td>\n      <td>-135.027891</td>\n      <td>29.604774</td>\n    </tr>\n    <tr>\n      <th>4</th>\n      <td>-0.51</td>\n      <td>29.29</td>\n      <td>2022.0</td>\n      <td>4.0</td>\n      <td>-0.000317</td>\n      <td>0.580527</td>\n      <td>-0.000184</td>\n      <td>0.204352</td>\n      <td>76.190865</td>\n      <td>15.646016</td>\n      <td>...</td>\n      <td>46594.685145</td>\n      <td>6849.280477</td>\n      <td>52896.541873</td>\n      <td>5849.280394</td>\n      <td>13.065317</td>\n      <td>0.284221</td>\n      <td>-12.907850</td>\n      <td>30.122641</td>\n      <td>-135.500119</td>\n      <td>26.276807</td>\n    </tr>\n  </tbody>\n</table>\n<p>5 rows × 67 columns</p>\n</div>"
     },
     "execution_count": 74,
     "metadata": {},
     "output_type": "execute_result"
    }
   ],
   "source": [
    "# Confirm the preprocessing\n",
    "test_data_imputed.head()"
   ],
   "metadata": {
    "collapsed": false,
    "ExecuteTime": {
     "end_time": "2023-08-14T03:23:31.679253700Z",
     "start_time": "2023-08-14T03:23:31.637364100Z"
    }
   },
   "id": "bc885f7ed5b50e47"
  },
  {
   "cell_type": "code",
   "execution_count": 76,
   "outputs": [],
   "source": [
    "# Extract the top features for model training\n",
    "top_features = importance_df['Feature'].head(10).tolist()"
   ],
   "metadata": {
    "collapsed": false,
    "ExecuteTime": {
     "end_time": "2023-08-14T03:27:06.865187600Z",
     "start_time": "2023-08-14T03:27:06.846578900Z"
    }
   },
   "id": "3400c1d7ebd322e0"
  },
  {
   "cell_type": "code",
   "execution_count": 78,
   "outputs": [
    {
     "data": {
      "text/plain": "RandomForestRegressor(random_state=42)",
      "text/html": "<style>#sk-container-id-3 {color: black;}#sk-container-id-3 pre{padding: 0;}#sk-container-id-3 div.sk-toggleable {background-color: white;}#sk-container-id-3 label.sk-toggleable__label {cursor: pointer;display: block;width: 100%;margin-bottom: 0;padding: 0.3em;box-sizing: border-box;text-align: center;}#sk-container-id-3 label.sk-toggleable__label-arrow:before {content: \"▸\";float: left;margin-right: 0.25em;color: #696969;}#sk-container-id-3 label.sk-toggleable__label-arrow:hover:before {color: black;}#sk-container-id-3 div.sk-estimator:hover label.sk-toggleable__label-arrow:before {color: black;}#sk-container-id-3 div.sk-toggleable__content {max-height: 0;max-width: 0;overflow: hidden;text-align: left;background-color: #f0f8ff;}#sk-container-id-3 div.sk-toggleable__content pre {margin: 0.2em;color: black;border-radius: 0.25em;background-color: #f0f8ff;}#sk-container-id-3 input.sk-toggleable__control:checked~div.sk-toggleable__content {max-height: 200px;max-width: 100%;overflow: auto;}#sk-container-id-3 input.sk-toggleable__control:checked~label.sk-toggleable__label-arrow:before {content: \"▾\";}#sk-container-id-3 div.sk-estimator input.sk-toggleable__control:checked~label.sk-toggleable__label {background-color: #d4ebff;}#sk-container-id-3 div.sk-label input.sk-toggleable__control:checked~label.sk-toggleable__label {background-color: #d4ebff;}#sk-container-id-3 input.sk-hidden--visually {border: 0;clip: rect(1px 1px 1px 1px);clip: rect(1px, 1px, 1px, 1px);height: 1px;margin: -1px;overflow: hidden;padding: 0;position: absolute;width: 1px;}#sk-container-id-3 div.sk-estimator {font-family: monospace;background-color: #f0f8ff;border: 1px dotted black;border-radius: 0.25em;box-sizing: border-box;margin-bottom: 0.5em;}#sk-container-id-3 div.sk-estimator:hover {background-color: #d4ebff;}#sk-container-id-3 div.sk-parallel-item::after {content: \"\";width: 100%;border-bottom: 1px solid gray;flex-grow: 1;}#sk-container-id-3 div.sk-label:hover label.sk-toggleable__label {background-color: #d4ebff;}#sk-container-id-3 div.sk-serial::before {content: \"\";position: absolute;border-left: 1px solid gray;box-sizing: border-box;top: 0;bottom: 0;left: 50%;z-index: 0;}#sk-container-id-3 div.sk-serial {display: flex;flex-direction: column;align-items: center;background-color: white;padding-right: 0.2em;padding-left: 0.2em;position: relative;}#sk-container-id-3 div.sk-item {position: relative;z-index: 1;}#sk-container-id-3 div.sk-parallel {display: flex;align-items: stretch;justify-content: center;background-color: white;position: relative;}#sk-container-id-3 div.sk-item::before, #sk-container-id-3 div.sk-parallel-item::before {content: \"\";position: absolute;border-left: 1px solid gray;box-sizing: border-box;top: 0;bottom: 0;left: 50%;z-index: -1;}#sk-container-id-3 div.sk-parallel-item {display: flex;flex-direction: column;z-index: 1;position: relative;background-color: white;}#sk-container-id-3 div.sk-parallel-item:first-child::after {align-self: flex-end;width: 50%;}#sk-container-id-3 div.sk-parallel-item:last-child::after {align-self: flex-start;width: 50%;}#sk-container-id-3 div.sk-parallel-item:only-child::after {width: 0;}#sk-container-id-3 div.sk-dashed-wrapped {border: 1px dashed gray;margin: 0 0.4em 0.5em 0.4em;box-sizing: border-box;padding-bottom: 0.4em;background-color: white;}#sk-container-id-3 div.sk-label label {font-family: monospace;font-weight: bold;display: inline-block;line-height: 1.2em;}#sk-container-id-3 div.sk-label-container {text-align: center;}#sk-container-id-3 div.sk-container {/* jupyter's `normalize.less` sets `[hidden] { display: none; }` but bootstrap.min.css set `[hidden] { display: none !important; }` so we also need the `!important` here to be able to override the default hidden behavior on the sphinx rendered scikit-learn.org. See: https://github.com/scikit-learn/scikit-learn/issues/21755 */display: inline-block !important;position: relative;}#sk-container-id-3 div.sk-text-repr-fallback {display: none;}</style><div id=\"sk-container-id-3\" class=\"sk-top-container\"><div class=\"sk-text-repr-fallback\"><pre>RandomForestRegressor(random_state=42)</pre><b>In a Jupyter environment, please rerun this cell to show the HTML representation or trust the notebook. <br />On GitHub, the HTML representation is unable to render, please try loading this page with nbviewer.org.</b></div><div class=\"sk-container\" hidden><div class=\"sk-item\"><div class=\"sk-estimator sk-toggleable\"><input class=\"sk-toggleable__control sk-hidden--visually\" id=\"sk-estimator-id-3\" type=\"checkbox\" checked><label for=\"sk-estimator-id-3\" class=\"sk-toggleable__label sk-toggleable__label-arrow\">RandomForestRegressor</label><div class=\"sk-toggleable__content\"><pre>RandomForestRegressor(random_state=42)</pre></div></div></div></div></div>"
     },
     "execution_count": 78,
     "metadata": {},
     "output_type": "execute_result"
    }
   ],
   "source": [
    "# Train the Random Forest model on the entire training data using top features\n",
    "X_train_full = train_data_imputed[top_features]\n",
    "y_train_full = train_data_imputed['emission']\n",
    "\n",
    "rf_full = RandomForestRegressor(n_estimators=100, random_state=42)\n",
    "rf_full.fit(X_train_full, y_train_full)\n"
   ],
   "metadata": {
    "collapsed": false,
    "ExecuteTime": {
     "end_time": "2023-08-14T03:31:16.344336500Z",
     "start_time": "2023-08-14T03:27:39.792026200Z"
    }
   },
   "id": "19535ca75675839a"
  },
  {
   "cell_type": "code",
   "execution_count": 82,
   "outputs": [],
   "source": [
    "# Define X_test using the top features from the imputed test data\n",
    "X_test = test_data_imputed[top_features]"
   ],
   "metadata": {
    "collapsed": false,
    "ExecuteTime": {
     "end_time": "2023-08-14T05:30:24.701773400Z",
     "start_time": "2023-08-14T05:30:24.638746600Z"
    }
   },
   "id": "44894e60b424fe6c"
  },
  {
   "cell_type": "code",
   "execution_count": 84,
   "outputs": [],
   "source": [
    "# Predict carbon emissions for the test dataset using the trained model\n",
    "test_predictions_larger_sample = rf_full.predict(X_test)"
   ],
   "metadata": {
    "collapsed": false,
    "ExecuteTime": {
     "end_time": "2023-08-14T05:31:02.307425200Z",
     "start_time": "2023-08-14T05:31:01.468244900Z"
    }
   },
   "id": "359e18f68479e37a"
  },
  {
   "cell_type": "code",
   "execution_count": 85,
   "outputs": [
    {
     "data": {
      "text/plain": "array([3.9803963 , 3.75772807, 4.18508902, 4.04335469, 4.01025285,\n       4.22304842, 4.24440294, 4.10648914, 4.08243369, 3.85170554])"
     },
     "execution_count": 85,
     "metadata": {},
     "output_type": "execute_result"
    }
   ],
   "source": [
    "test_predictions_larger_sample[:10]  # Display the first 10 predictions"
   ],
   "metadata": {
    "collapsed": false,
    "ExecuteTime": {
     "end_time": "2023-08-14T05:31:13.708615300Z",
     "start_time": "2023-08-14T05:31:13.676469700Z"
    }
   },
   "id": "892680d32e19637d"
  },
  {
   "cell_type": "code",
   "execution_count": 86,
   "outputs": [
    {
     "data": {
      "text/plain": "       ID_LAT_LON_YEAR_WEEK  emission\n0  ID_-0.510_29.290_2022_00     81.94\n1  ID_-0.510_29.290_2022_01     81.94\n2  ID_-0.510_29.290_2022_02     81.94\n3  ID_-0.510_29.290_2022_03     81.94\n4  ID_-0.510_29.290_2022_04     81.94",
      "text/html": "<div>\n<style scoped>\n    .dataframe tbody tr th:only-of-type {\n        vertical-align: middle;\n    }\n\n    .dataframe tbody tr th {\n        vertical-align: top;\n    }\n\n    .dataframe thead th {\n        text-align: right;\n    }\n</style>\n<table border=\"1\" class=\"dataframe\">\n  <thead>\n    <tr style=\"text-align: right;\">\n      <th></th>\n      <th>ID_LAT_LON_YEAR_WEEK</th>\n      <th>emission</th>\n    </tr>\n  </thead>\n  <tbody>\n    <tr>\n      <th>0</th>\n      <td>ID_-0.510_29.290_2022_00</td>\n      <td>81.94</td>\n    </tr>\n    <tr>\n      <th>1</th>\n      <td>ID_-0.510_29.290_2022_01</td>\n      <td>81.94</td>\n    </tr>\n    <tr>\n      <th>2</th>\n      <td>ID_-0.510_29.290_2022_02</td>\n      <td>81.94</td>\n    </tr>\n    <tr>\n      <th>3</th>\n      <td>ID_-0.510_29.290_2022_03</td>\n      <td>81.94</td>\n    </tr>\n    <tr>\n      <th>4</th>\n      <td>ID_-0.510_29.290_2022_04</td>\n      <td>81.94</td>\n    </tr>\n  </tbody>\n</table>\n</div>"
     },
     "execution_count": 86,
     "metadata": {},
     "output_type": "execute_result"
    }
   ],
   "source": [
    "# Load the sample submission file\n",
    "sample_submission = pd.read_csv(r'C:\\Users\\Syed Asad\\OneDrive\\Desktop\\Python Files\\Data Analysis\\Kaggle Competitions\\Predicting CO2 Emissions for Rwanda\\sample_submission.csv')\n",
    "\n",
    "# Display the first few rows of the sample submission\n",
    "sample_submission.head()"
   ],
   "metadata": {
    "collapsed": false,
    "ExecuteTime": {
     "end_time": "2023-08-14T05:32:45.355838100Z",
     "start_time": "2023-08-14T05:32:45.271437900Z"
    }
   },
   "id": "7ed835a0a31e634f"
  },
  {
   "cell_type": "code",
   "execution_count": 87,
   "outputs": [],
   "source": [
    "# Load the original test dataset to extract the ID_LAT_LON_YEAR_WEEK column\n",
    "test_original = pd.read_csv(r'C:\\Users\\Syed Asad\\OneDrive\\Desktop\\Python Files\\Data Analysis\\Kaggle Competitions\\Predicting CO2 Emissions for Rwanda\\test.csv')"
   ],
   "metadata": {
    "collapsed": false,
    "ExecuteTime": {
     "end_time": "2023-08-14T05:35:06.131582200Z",
     "start_time": "2023-08-14T05:35:05.795836500Z"
    }
   },
   "id": "5b8c80cd70446e9b"
  },
  {
   "cell_type": "code",
   "execution_count": 88,
   "outputs": [],
   "source": [
    "# Create the final submission dataframe\n",
    "final_submission = pd.DataFrame({\n",
    "    'ID_LAT_LON_YEAR_WEEK': test_original['ID_LAT_LON_YEAR_WEEK'],\n",
    "    'emission': test_predictions_larger_sample\n",
    "})"
   ],
   "metadata": {
    "collapsed": false,
    "ExecuteTime": {
     "end_time": "2023-08-14T05:36:16.771216800Z",
     "start_time": "2023-08-14T05:36:16.736955800Z"
    }
   },
   "id": "23049da86980a59b"
  },
  {
   "cell_type": "code",
   "execution_count": 96,
   "outputs": [],
   "source": [
    "# Specify the file path for the final submission CSV file\n",
    "submission_file_path = 'final_submission.csv'"
   ],
   "metadata": {
    "collapsed": false,
    "ExecuteTime": {
     "end_time": "2023-08-14T06:03:59.271481500Z",
     "start_time": "2023-08-14T06:03:59.267866200Z"
    }
   },
   "id": "77618f8b7592961a"
  },
  {
   "cell_type": "code",
   "execution_count": 97,
   "outputs": [],
   "source": [
    "# Write the final submission DataFrame to a CSV file\n",
    "final_submission.to_csv(submission_file_path, index=False)"
   ],
   "metadata": {
    "collapsed": false,
    "ExecuteTime": {
     "end_time": "2023-08-14T06:04:14.353067900Z",
     "start_time": "2023-08-14T06:04:14.265048100Z"
    }
   },
   "id": "4ed9672b90789718"
  }
 ],
 "metadata": {
  "kernelspec": {
   "display_name": "Python 3",
   "language": "python",
   "name": "python3"
  },
  "language_info": {
   "codemirror_mode": {
    "name": "ipython",
    "version": 2
   },
   "file_extension": ".py",
   "mimetype": "text/x-python",
   "name": "python",
   "nbconvert_exporter": "python",
   "pygments_lexer": "ipython2",
   "version": "2.7.6"
  }
 },
 "nbformat": 4,
 "nbformat_minor": 5
}
